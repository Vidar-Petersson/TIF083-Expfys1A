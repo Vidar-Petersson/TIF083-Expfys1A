{
 "cells": [
  {
   "cell_type": "code",
   "execution_count": 36,
   "metadata": {},
   "outputs": [
    {
     "name": "stdout",
     "output_type": "stream",
     "text": [
      "0.008328996409684371 m/s^2\n",
      "0.004815421075900626 m/s^2\n",
      "0.000480749672766982 Joules\n",
      "0.0002910440498274339 Joules\n"
     ]
    }
   ],
   "source": [
    "import pandas as pd\n",
    "import numpy as np\n",
    "import matplotlib.pyplot as plt\n",
    "\n",
    "hz = 500\n",
    "massa_a = 0.2886 #kg\n",
    "massa_b = 0.3022 #kg\n",
    "\n",
    "\n",
    "dir = \"DATA//raw//del1//friktion\"\n",
    "\n",
    "dfa = pd.read_csv(dir+\"//a_friktion.tsv\", delimiter=\"\\t\", skiprows=11)\n",
    "dfb = pd.read_csv(dir+\"//b_friktion.tsv\", delimiter=\"\\t\", skiprows=11)\n",
    "\n",
    "df = pd.concat([dfa,dfb], axis=1)\n",
    "\n",
    "a_acc = np.linalg.norm(np.column_stack((np.gradient(np.gradient(df[\"a X\"])), np.gradient(np.gradient(df[\"a Y\"])))), axis=1)*hz/1000\n",
    "b_acc = np.linalg.norm(np.column_stack((np.gradient(np.gradient(df[\"b X\"])), np.gradient(np.gradient(df[\"b Y\"])))), axis=1)*hz/1000\n",
    "\n",
    "a_mean = np.nanmean(a_acc[int(len(a_acc)/2-200):int(len(a_acc)/2+200)])\n",
    "b_mean = np.nanmean(b_acc[int(len(b_acc)/2-200):int(len(b_acc)/2+200)])\n",
    "\n",
    "print(a_mean, \"m/s^2\")\n",
    "print(b_mean, \"m/s^2\")\n",
    "\n",
    "def nrg(acc, massa):\n",
    "    return 0.5*massa*(acc*0.4) #0.4 totala energiintervallet\n",
    "\n",
    "a_nrg = nrg(a_mean, massa_a)\n",
    "print(a_nrg,\"Joules\")\n",
    "b_nrg = nrg(b_mean, massa_b)\n",
    "print(b_nrg,\"Joules\")"
   ]
  }
 ],
 "metadata": {
  "kernelspec": {
   "display_name": "Python 3",
   "language": "python",
   "name": "python3"
  },
  "language_info": {
   "codemirror_mode": {
    "name": "ipython",
    "version": 3
   },
   "file_extension": ".py",
   "mimetype": "text/x-python",
   "name": "python",
   "nbconvert_exporter": "python",
   "pygments_lexer": "ipython3",
   "version": "3.11.0"
  },
  "orig_nbformat": 4
 },
 "nbformat": 4,
 "nbformat_minor": 2
}
